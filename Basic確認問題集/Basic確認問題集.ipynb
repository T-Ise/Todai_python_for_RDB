{
 "cells": [
  {
   "cell_type": "markdown",
   "metadata": {},
   "source": [
    "# 東大python入門 Basic編 確認問題集\n",
    "\n",
    "- 実施時注意点\n",
    "> 講義中に触れられた、可読性の高いコードで書くこと。  \n",
    "> 基本的にPEP8に準拠していれば問題なく、明らかに読みにくいものは減点対象とする。"
   ]
  },
  {
   "cell_type": "markdown",
   "metadata": {},
   "source": [
    "## 第1問\n",
    "`print()`関数を使用してセルを実行し、あなたの名前をアウトプットに表示させてください。"
   ]
  },
  {
   "cell_type": "code",
   "execution_count": null,
   "metadata": {},
   "outputs": [],
   "source": []
  },
  {
   "cell_type": "markdown",
   "metadata": {},
   "source": [
    "## 第2問\n",
    "ある球の半径 `r` が引数として与えられたとき、球の体積を返す関数 `v_sphere()` を作成してください。  "
   ]
  },
  {
   "cell_type": "code",
   "execution_count": null,
   "metadata": {},
   "outputs": [],
   "source": []
  },
  {
   "cell_type": "markdown",
   "metadata": {},
   "source": [
    "## 第3問\n",
    "\n",
    "アンダースコア (`_`) を複数含む英語の単語からなる文字列 `str_underscore` が引数として与えられたとき、`str_underscore` 中の最初のアンダースコアと最後のアンダースコアに挟まれている文字列を返す関数 `strip_underscore()` を作成してください。  \n",
    "ただし、返却される文字列はアンダースコアを含む場合には削除し、全て小文字のアルファベットとしてください。\n",
    "\n",
    "- 使用例  \n",
    "```Python\n",
    "    strip_underscore('Abc_Def_GHijk') -> 'def'\n",
    "    \n",
    "    strip_underscore('Abc_Def_GHi_jk') -> 'defghi'\n",
    "```"
   ]
  },
  {
   "cell_type": "code",
   "execution_count": null,
   "metadata": {},
   "outputs": [],
   "source": []
  },
  {
   "cell_type": "markdown",
   "metadata": {},
   "source": [
    "## 第4問\n",
    "\n",
    "以下のコードはATGCの4種類の文字から成る文字列 `str_atgc` が引数として与えられたとき、各文字の出現回数と文字そのものを格納した長さ2のリストを返す関数 `atgc_countlist()` のコードです。  \n",
    "この関数を、以下の追加ルールに従って改修してください。  \n",
    "\n",
    "・ 引数に入る文字列が、ATGC以外のあらゆる文字から構成されていても、同様に各文字の出現回数と文字そのものが出力されるよう修正してください。  \n",
    "・ 各文字の出現回数と文字そのものを格納する型を、長さ2のリストではなく長さ2のタプルとしてください。  \n",
    "・ 関数名を `str_countlist()` としてください。  \n",
    "・ 引数名を `any_str` としてください。  \n",
    "・ 結果の並び順は順不同とします。\n",
    "\n",
    "- 使用例  \n",
    "```Python\n",
    "    atgc_countlist('AAATTCCGG')   ->  [[3, 'A'], [2, 'T'], [2, 'G'], [2, 'C']]\n",
    "    \n",
    "    str_countlist('ATGCaaabbtt!') ->  [(2, 'b'), (2, 't'), (1, 'G'), (1, 'C'), (1, 'A'), (1, '!'), (1, 'T'), (3, 'a')]\n",
    "```"
   ]
  },
  {
   "cell_type": "code",
   "execution_count": 4,
   "metadata": {},
   "outputs": [],
   "source": [
    "def atgc_countlist(str_atgc):\n",
    "    \n",
    "    return [[str_atgc.count(s), s] for s in 'ATGC']"
   ]
  },
  {
   "cell_type": "markdown",
   "metadata": {},
   "source": [
    "## 第5問\n",
    "\n",
    "リスト `columns` が引数として与えられたとき、`columns` の各要素 `col` をキー、空のリストを値とした辞書を返す関数 `create_dict()` を内包表記を使用して作成してください。\n",
    "\n",
    "- 使用例  \n",
    "```Python\n",
    "    create_dict(['user_id', 'nend', 'score']) -> {'user_id': [], 'nend': [], 'score': []}\n",
    "```"
   ]
  },
  {
   "cell_type": "code",
   "execution_count": null,
   "metadata": {},
   "outputs": [],
   "source": []
  },
  {
   "cell_type": "markdown",
   "metadata": {},
   "source": [
    "## 第6問\n",
    "\n",
    "コンマと半角スペースで区切られた10進数からなる文字列 `str_nums` が引数として与えられたとき、\n",
    "それぞれの10進数を数に変換して得られるリストを返す関数 `str_to_nums()` を作成してください。  \n",
    "但し、整数は整数、実数は実数として変換することとします。\n",
    "\n",
    "- 使用例  \n",
    "```Python\n",
    "    str_to_nums('123, 45, -3.1514') -> [123, 45, -3.1514]\n",
    "```"
   ]
  },
  {
   "cell_type": "code",
   "execution_count": null,
   "metadata": {
    "tags": [
     "raises-exception"
    ]
   },
   "outputs": [],
   "source": []
  },
  {
   "cell_type": "markdown",
   "metadata": {},
   "source": [
    "## 第7問\n",
    "整数 `n` が引数として与えられたとき、`n` の長さのリストを返す関数 `fizz_buzz()`を作成してください。  \n",
    "得られるリストの内容は、以下のルールに従います。\n",
    "\n",
    "・整数の1からスタートし、インデックスが増える度に +1 した数字を要素として格納してください。  \n",
    "・数値が3で割り切れる場合、数値の代わりに 'Fizz' 文字列を要素として格納してください。  \n",
    "・数値が5で割り切れる場合、数値の代わりに 'Buzz' 文字列を要素として格納してください。  \n",
    "・数値が3でも5でも割り切れる場合、数値の代わりに 'FizzBuzz' 文字列を要素として格納してください。\n",
    "\n",
    "\n",
    "- 使用例  \n",
    "```Python\n",
    "    fizz_buzz(16) -> [1, 2, 'Fizz', 4, 'Buzz', 'Fizz', 7, 8, 'Fizz', 'Buzz', 11, 'Fizz', 13, 14, 'FizzBuzz', 16]\n",
    "```"
   ]
  },
  {
   "cell_type": "code",
   "execution_count": null,
   "metadata": {},
   "outputs": [],
   "source": []
  },
  {
   "cell_type": "markdown",
   "metadata": {},
   "source": [
    "## 第8問\n",
    "\n",
    "平面上の座標を表すタプル `point1` と `point2` が引数として与えられたとき、2点間の距離を返す関数 `get_point_dist()` を作成してください。  \n",
    "\n",
    "- 使用例  \n",
    "```Python\n",
    "    get_point_dist((5, 2), (-1, 10)) -> 10.0\n",
    "```"
   ]
  },
  {
   "cell_type": "code",
   "execution_count": null,
   "metadata": {},
   "outputs": [],
   "source": []
  },
  {
   "cell_type": "markdown",
   "metadata": {},
   "source": [
    "## 第9問\n",
    "\n",
    "リスト `point1_list` と `point2_list` が引数として与えられたとき、次のような辞書 `point_distance` を返す関数 `get_dist_dict()` を作成してください。  \n",
    "引数と戻り値の定義は以下の通りです。  \n",
    "また、コードに第8問の関数 `get_point_dist()` を使用してかまいません。\n",
    "\n",
    "・ `point1_list`, `point2_list` にはそれぞれ 要素として平面上の座標を表すタプルが入っています。  \n",
    "・ `point1_list`, `point2_list` の双方のリストの長さは同じとします。  \n",
    "・ `point1_list`, `point2_list` の同じインデックスにある2点の座標の距離を値、その時のインデックスの値`N`を使用して'距離`N+1`'と表現した文字列をキーとした辞書を作成してください。\n",
    "\n",
    "- 使用例  \n",
    "```Python\n",
    "    get_dist_dict([(5, 2), (5, 0), (5, 7)], [(-1, 10), (8, 4), (0, -5)]) -> {'距離1': 10.0, '距離2': 5.0, '距離3': 13.0}\n",
    "```"
   ]
  },
  {
   "cell_type": "code",
   "execution_count": null,
   "metadata": {},
   "outputs": [],
   "source": []
  },
  {
   "cell_type": "markdown",
   "metadata": {},
   "source": [
    "## 第10問\n",
    "\n",
    "整数 `n` が引数として与えられたとき、次のような単位行列を表したリストのリストを返す関数 `create_identity_matrix()` を作成してください。  \n",
    "得られるリストのリストの内容は、以下のようなものです。\n",
    "\n",
    "・要素として、要素数がnのリストをn個持つリストのリストを作成してください。(n × n の行列)  \n",
    "・対角成分については1、それ以外の成分については0の値を格納してください。\n",
    "\n",
    "\n",
    "- 使用例  \n",
    "```Python\n",
    "    create_identity_matrix(5) -> [[1, 0, 0, 0, 0],\n",
    "                                  [0, 1, 0, 0, 0],\n",
    "                                  [0, 0, 1, 0, 0],\n",
    "                                  [0, 0, 0, 1, 0],\n",
    "                                  [0, 0, 0, 0, 1]]\n",
    "```"
   ]
  },
  {
   "cell_type": "code",
   "execution_count": null,
   "metadata": {},
   "outputs": [],
   "source": []
  },
  {
   "cell_type": "markdown",
   "metadata": {},
   "source": [
    "## 第11問\n",
    "\n",
    "リストのリスト `nums_list` と 昇順でソートするかどうかの真理値 `ascending` が引数として与えられたとき、その中で各子リスト内の総和でソートされた `nums_list` を返す関数 `sort_nums_list()` を作成してください。  \n",
    "引数と戻り値の定義は以下の通りです。  \n",
    "\n",
    "・`nums_list`の要素である各子リストの要素数は、それぞれで異なるとします。  \n",
    "・`ascending`はキーワード引数とし、引数を省略した場合には、戻り値が昇順でソートされるような初期値を指定してください。  \n",
    "\n",
    "- 使用例  \n",
    "```Python\n",
    "    sort_nums_list([[1, 2], [5, 3], [1, 3, 4, 1], [1, 1, 1, 1, 1]]) -> [[1, 2], [1, 1, 1, 1, 1], [5, 3], [1, 3, 4, 1]]\n",
    "    \n",
    "    sort_nums_list([[1, 2], [5, 3], [1, 3, 4, 1], [1, 1, 1, 1, 1]], ascending=True) -> [[1, 2], [1, 1, 1, 1, 1], [5, 3], [1, 3, 4, 1]]\n",
    "    \n",
    "    sort_nums_list([[1, 2], [5, 3], [1, 3, 4, 1], [1, 1, 1, 1, 1]], ascending=False) -> [[1, 3, 4, 1], [5, 3], [1, 1, 1, 1, 1], [1, 2]]\n",
    "```"
   ]
  },
  {
   "cell_type": "code",
   "execution_count": null,
   "metadata": {},
   "outputs": [],
   "source": []
  },
  {
   "cell_type": "markdown",
   "metadata": {},
   "source": [
    "## 第12問\n",
    "\n",
    "アウトプットテキスト名 `out_file` が引数として与えられたとき、インプットテキスト`BasicTest_12_infile.txt`を読み込んだ後、  \n",
    "所定の処理を経てアウトプットテキストを出力する関数 `process_text()` を作成してください。  \n",
    "所定の処理の詳細は以下の通りです。  \n",
    "\n",
    "・インプットテキスト`BasicTest_12_infile.txt`の文字コードは Shift-JIS です。  \n",
    "・インプットテキスト`BasicTest_12_infile.txt`の内容はチャットのような文章になっており、`ID[xxx]:zzzzzz` という形式で記述されています。  \n",
    "・発言者に相当するID文字列 `xxx` の発言回数 `n` をそれぞれ数えて下さい。  \n",
    "・アウトプットテキストには `xxx:n` の形式で、各行ごとに出現回数降順で記述して下さい。  \n",
    "・アウトプットテキストの文字コードは Shift-JIS とします。  \n",
    "・`out_file` 引数の末尾に `.txt` 拡張子が付与されていない場合、同拡張子を付与した状態でアウトプットテキストを出力して下さい。\n",
    "\n",
    "- 出力例  \n",
    "> `BasicTest_12_outfile_sample.txt` を参照"
   ]
  },
  {
   "cell_type": "code",
   "execution_count": null,
   "metadata": {},
   "outputs": [],
   "source": []
  },
  {
   "cell_type": "markdown",
   "metadata": {},
   "source": [
    "## 第13問\n",
    "\n",
    "文字列 `in_str` が引数として与えられたとき、その中から数字列を切り出して整数とみなした場合の、偶数のみを足し合わせた結果を返す関数 `sum_evens()`を作成してください。  \n",
    "ただし、数字の前に一つ以上の `-` がついていた場合には負の値として扱います。\n",
    "\n",
    "- 使用例  \n",
    "```Python\n",
    "    sum_evens('12 .lp,5?? * --10=~(71) abogado6') -> 8\n",
    "```"
   ]
  },
  {
   "cell_type": "code",
   "execution_count": null,
   "metadata": {},
   "outputs": [],
   "source": []
  },
  {
   "cell_type": "markdown",
   "metadata": {},
   "source": [
    "## 第14問\n",
    "\n",
    "整数 `m` と整数 `n` がそれぞれ引数として与えられたとき、m × n の float64型 numpy行列を返す関数 `create_2darray()` を作成してください。  \n",
    "各要素は`0.0`で満たされていますが、最後の列と行のみ`1.0`で満たされるとします。\n",
    "\n",
    "- 使用例  \n",
    "```Python\n",
    "    create_2darray(4, 3) -> array([[0., 0., 1.],\n",
    "                                   [0., 0., 1.],\n",
    "                                   [0., 0., 1.],\n",
    "                                   [1., 1., 1.]])\n",
    "```"
   ]
  },
  {
   "cell_type": "code",
   "execution_count": null,
   "metadata": {},
   "outputs": [],
   "source": []
  },
  {
   "cell_type": "markdown",
   "metadata": {},
   "source": [
    "## 第15問\n",
    "\n",
    "本notebookと同ディレクトリに存在する `iris.csv` を pandas.DataFrame 形式で読み込み、以下の条件に従って行抽出したデータをソートして返す関数 `extract_iris()` を作成してください。  \n",
    "具体的な内容は以下の通りです。\n",
    "\n",
    "抽出条件 : species が setosa 以外のもの かつ、sepal_length が 3.0 ~ 7.0 の範囲にあるか、petal_width が 1より大きいもの  \n",
    "ソート条件 : petal_width 昇順、 sepal_length 降順 でソートする"
   ]
  },
  {
   "cell_type": "code",
   "execution_count": null,
   "metadata": {},
   "outputs": [],
   "source": []
  }
 ],
 "metadata": {
  "kernelspec": {
   "display_name": "Python 3",
   "language": "python",
   "name": "python3"
  },
  "language_info": {
   "codemirror_mode": {
    "name": "ipython",
    "version": 3
   },
   "file_extension": ".py",
   "mimetype": "text/x-python",
   "name": "python",
   "nbconvert_exporter": "python",
   "pygments_lexer": "ipython3",
   "version": "3.7.3"
  }
 },
 "nbformat": 4,
 "nbformat_minor": 2
}
