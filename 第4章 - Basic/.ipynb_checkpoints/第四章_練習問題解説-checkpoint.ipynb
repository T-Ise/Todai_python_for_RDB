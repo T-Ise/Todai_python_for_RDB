{
 "cells": [
  {
   "cell_type": "markdown",
   "metadata": {},
   "source": [
    "# 第四章 練習問題解説"
   ]
  },
  {
   "cell_type": "markdown",
   "metadata": {},
   "source": [
    "## 4-1. モジュールの使い方"
   ]
  },
  {
   "cell_type": "markdown",
   "metadata": {},
   "source": [
    "### 練習問題1\n",
    "第1回では、数学関数を以下のようにインポートし、`math.sqrt()` のようにして、数学関数や数学関係の変数を利用していました。\n",
    "\n",
    "---\n",
    "```Python\n",
    "import math\n",
    "print(math.sqrt(2))\n",
    "print(math.sin(math.pi))\n",
    "```\n",
    "\n",
    "---\n",
    "\n",
    "以下のセルを、モジュール名を付けないでこれらの関数や変数を参照できるように変更してください。"
   ]
  },
  {
   "cell_type": "code",
   "execution_count": null,
   "metadata": {
    "tags": [
     "raises-exception"
    ]
   },
   "outputs": [],
   "source": [
    "# fromを使用してモジュールを指定し、参照する関数をimportで指定する\n",
    "from math import sqrt, sin, pi\n",
    "\n",
    "print(sqrt(2))\n",
    "print(sin(pi))"
   ]
  },
  {
   "cell_type": "markdown",
   "metadata": {},
   "source": [
    "## 4-2. NumPyライブラリ"
   ]
  },
  {
   "cell_type": "markdown",
   "metadata": {},
   "source": [
    "### 練習問題1\n",
    "\n",
    "引数に整数 $n$ を取り、$i$ から始まる連番の整数からなる配列を$i$番目 ($i\\ge 0$) の行として持つ $n\\times n$ の2次元配列を返す関数 `range_square_matrix()` を、`arange()` を用いて定義してください。\n",
    "\n",
    "たとえば、`range_square_matrix(3)` は、\n",
    "```\n",
    "[[0 1 2]\n",
    " [1 2 3]\n",
    " [2 3 4]]\n",
    "```\n",
    "と印字されるような2次元配列を返します。"
   ]
  },
  {
   "cell_type": "code",
   "execution_count": null,
   "metadata": {},
   "outputs": [],
   "source": [
    "import numpy as np\n",
    "\n",
    "def arange_square_matrix(n):\n",
    "    \n",
    "    # n回 i(start) ~ i+n(end) のnp.array配列を作成し、最後に外側も np.array配列に変換する\n",
    "    return np.array([np.arange(i, n+i) for i in range(n)])"
   ]
  }
 ],
 "metadata": {
  "kernelspec": {
   "display_name": "Python 3",
   "language": "python",
   "name": "python3"
  },
  "language_info": {
   "codemirror_mode": {
    "name": "ipython",
    "version": 3
   },
   "file_extension": ".py",
   "mimetype": "text/x-python",
   "name": "python",
   "nbconvert_exporter": "python",
   "pygments_lexer": "ipython3",
   "version": "3.7.3"
  }
 },
 "nbformat": 4,
 "nbformat_minor": 2
}
