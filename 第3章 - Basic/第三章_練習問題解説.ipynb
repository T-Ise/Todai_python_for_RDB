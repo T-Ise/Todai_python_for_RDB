{
 "cells": [
  {
   "cell_type": "markdown",
   "metadata": {},
   "source": [
    "# 第三章 練習問題解説"
   ]
  },
  {
   "cell_type": "markdown",
   "metadata": {},
   "source": [
    "## 3-2 高階関数"
   ]
  },
  {
   "cell_type": "markdown",
   "metadata": {},
   "source": [
    "### 練習問題1\n",
    "\n",
    "辞書 `d` が与えられたとき、\n",
    "最大の値を持つキー（複数個ならばそのいずれか）を返す関数 `max_value_key(d)` を、\n",
    "`max` を使って定義してください。\n",
    "\n",
    "ヒント：辞書 `d` のキー `k` に対して、`k` に対応する値を返す関数は `lambda k: d[k]` という式で表すことができます。"
   ]
  },
  {
   "cell_type": "code",
   "execution_count": 11,
   "metadata": {},
   "outputs": [],
   "source": [
    "def max_value_key(d):\n",
    "    \n",
    "    # 辞書の値について、最大であるキーを返却\n",
    "    return max(d, key=lambda x:d[x])"
   ]
  },
  {
   "cell_type": "markdown",
   "metadata": {},
   "source": [
    "### 練習問題2\n",
    "\n",
    "数のリストが与えられたとき、その要素の絶対値の最大値を返す関数 `max_abs()` を、\n",
    "`map()` と `max()` を使って定義してください。"
   ]
  },
  {
   "cell_type": "code",
   "execution_count": 1,
   "metadata": {},
   "outputs": [],
   "source": [
    "def max_abs(ln):\n",
    "    \n",
    "    # 各要素にabsを適用後、maxで最大値を求める\n",
    "    return max(map(abs, ln))"
   ]
  },
  {
   "cell_type": "markdown",
   "metadata": {},
   "source": [
    "### 練習問題3\n",
    "\n",
    "数のリスト `ln` と数 `n` を受け取って、`ln` の要素のうち、`n` より大きい個数を返す関数\n",
    "`number_of_big_numbers(ln, n)` を、for文やwhile文を用いずに、`filter()` を用いて定義してください。"
   ]
  },
  {
   "cell_type": "code",
   "execution_count": 5,
   "metadata": {},
   "outputs": [],
   "source": [
    "def number_of_big_numbers(ln, n):\n",
    "    \n",
    "    # nより大きい要素をfilterで記述し、一度listに変換してからその要素数を返却する\n",
    "    return len(list(filter(lambda x: x > n, ln)))"
   ]
  },
  {
   "cell_type": "markdown",
   "metadata": {},
   "source": [
    "> 別解"
   ]
  },
  {
   "cell_type": "code",
   "execution_count": 7,
   "metadata": {},
   "outputs": [],
   "source": [
    "def number_of_big_numbers(ln, n):\n",
    "    \n",
    "    # 内包表記を用いた場合 ※こちらを推奨\n",
    "    return len([x for x in ln if x > n])"
   ]
  },
  {
   "cell_type": "markdown",
   "metadata": {},
   "source": [
    "## 3-3 ファイル入出力の基本"
   ]
  },
  {
   "cell_type": "markdown",
   "metadata": {},
   "source": [
    "### 練習問題1\n",
    "\n",
    "文字列 `name` をファイル名とするファイルをオープンして、\n",
    "`read()` メソッドによってファイル全体を文字列として読み込み、\n",
    "その文字数を返す関数 `number_of_characters(name)` を作成してください。\n",
    "\n",
    "注意：`return` する前にファイルをクローズすることを忘れないようにしてください。"
   ]
  },
  {
   "cell_type": "code",
   "execution_count": 18,
   "metadata": {},
   "outputs": [],
   "source": [
    "def  number_of_characters(name):\n",
    "    \n",
    "    # ファイルをリードオープン\n",
    "    with open(name, 'r') as f:\n",
    "        file = f.read()\n",
    "        \n",
    "    return len(file)"
   ]
  },
  {
   "cell_type": "markdown",
   "metadata": {},
   "source": [
    "### 練習問題2\n",
    "\n",
    "2つのファイル名 `infile`, `outfile` を引数として、`infile` の半角英文字を全て大文字にした結果を `outfile` に書き込む `file_upper(infile, outfile)` という関数を作成してください。   \n",
    "\n",
    "なお、半角英文字の小文字を大文字に変換するには `upper()` というメソッドが使えます。\n",
    "たとえば `line` という名前の変数に半角文字列が入っている場合、`line.upper()` とすれば小文字に変換した文字列を返します。"
   ]
  },
  {
   "cell_type": "code",
   "execution_count": 20,
   "metadata": {},
   "outputs": [],
   "source": [
    "def file_upper(infile, outfile):\n",
    "    \n",
    "    # 入力ファイルを開く ＆ 出力ファイルを開く\n",
    "    with open(infile, 'r') as f, open(outfile, 'w') as g:\n",
    "        \n",
    "        # fで読んだ文字列を大文字変換し、gに書き込む\n",
    "        g.write(f.read().upper())        "
   ]
  },
  {
   "cell_type": "markdown",
   "metadata": {},
   "source": [
    "## 3-4 正規表現"
   ]
  },
  {
   "cell_type": "markdown",
   "metadata": {},
   "source": [
    "### 練習問題1\n",
    "\n",
    "文字列 `str1` を引数として取り、 `str1` の中に「月を表す文字列」が含まれているかどうか調べて、含まれていればマッチしたときのmatchオブジェクトを、含まれいなければ `None` を返す関数 `check_monthstr` を作成してください。 ただし、「月を表す文字列」 は次のような文字列とします。\n",
    "\n",
    "1. 長さ2の `mm` という文字列\n",
    "2.  `mm` は、`00`, `01`, ..., `12` のいずれかの文字列\n",
    "\n",
    "以下のセルの `...` のところを書き換えて解答してください。"
   ]
  },
  {
   "cell_type": "code",
   "execution_count": 28,
   "metadata": {},
   "outputs": [],
   "source": [
    "import re\n",
    "\n",
    "def check_monthstr(str1):\n",
    "    \n",
    "    # 含まれているかどうかではなく、matchオブジェクトを求められているので search()を使う\n",
    "    return re.search(r'((0(1|2|3|4|5|6|7|8|9))|10|11|12)', str1)"
   ]
  },
  {
   "cell_type": "markdown",
   "metadata": {},
   "source": [
    "### 練習問題2\n",
    "\n",
    "文字列 `str1` を引数として取り、 `str1` の中に「時刻を表す文字列」が含まれているかどうか調べて、含まれていればマッチしたときのmatchオブジェクトを、含まれいなければ `None` を返す関数 `check_timestr()` を作成してください。 ただし、「時刻を表す文字列」 は次のような文字列とします。\n",
    "\n",
    "1. 長さ5の `hh:mm` という文字列であり、12時間表示で時間を表す。\n",
    "2. 前半の2文字 `hh` は、 `00`, `01`, ..., `11` のいずれかの文字列\n",
    "3. 後半の2文字 `mm` は、 `00`, `01`, ..., `59` のいずれかの文字列\n",
    "\n",
    "以下のセルの `...` のところを書き換えて解答してください。"
   ]
  },
  {
   "cell_type": "code",
   "execution_count": 43,
   "metadata": {},
   "outputs": [],
   "source": [
    "import re\n",
    "\n",
    "def check_timestr(str1):\n",
    "    \n",
    "    # hhに対する正規表現\n",
    "    hh = r'(0[0-9]|1[0-1])'\n",
    "    \n",
    "    # mmに対する正規表現\n",
    "    mm = r'([0-5][0-9])'\n",
    "    \n",
    "    # :でつなげたものを検索\n",
    "    return re.search(hh + ':' + mm, str1)"
   ]
  },
  {
   "cell_type": "markdown",
   "metadata": {},
   "source": [
    "### 練習問題3\n",
    "\n",
    "文字列 `str1` を引数として取り、`str1` の中に「IPv4を表す文字列」が含まれているかどうか調べて、含まれていればマッチしたときのmatchオブジェクトを、含まれいなければ `None` を返す関数 `check_ipv4str()` を作成してください。 ただし、「IPv4を表す文字列」 は次のような文字列とします。\n",
    "\n",
    "1. `aaa:bbb:ccc:ddd` という形式の長さ15の文字列\n",
    "2.  `aaa`, `bbb`, `ccc`, `ddd` はいずれも、 `000`, `001`, ..., `254`, `255` のいずれかの文字列\n",
    "\n",
    "以下のセルの `...` のところを書き換えて解答してください。"
   ]
  },
  {
   "cell_type": "code",
   "execution_count": 45,
   "metadata": {},
   "outputs": [],
   "source": [
    "import re\n",
    "\n",
    "def check_ipv4str(str1):\n",
    "    \n",
    "    # aaaに該当する正規表現\n",
    "    aaa = r'([0-1][0-9][0-9]|2[0-5][0-5])'\n",
    "    \n",
    "    # 同じ表現が4つ入ったリストを作成し、:でjoinしたものを検索\n",
    "    return re.search(':'.join([aaa] * 4), str1)"
   ]
  },
  {
   "cell_type": "markdown",
   "metadata": {},
   "source": [
    "### 練習問題4\n",
    "文字列から数字列を切り出して、それを整数とみなして足し合せた結果を整数として返す関数 `sumnumbers` を定義してください。"
   ]
  },
  {
   "cell_type": "code",
   "execution_count": 55,
   "metadata": {},
   "outputs": [],
   "source": [
    "import re\n",
    "\n",
    "def sumnumbers(s):\n",
    "\n",
    "    # 数字以外の文字でre.split()し、先頭から文字対策の為に0を付与したものを合計\n",
    "    return sum([int(n) for n in re.split(r'[^\\d]+', '0' + s)])"
   ]
  },
  {
   "cell_type": "markdown",
   "metadata": {},
   "source": [
    "### 練習問題5\n",
    "\n",
    "文字列 `str1` を引数として取り、 `str1` を構成する文字列が「日本の郵便番号」を表す文字列になっている場合は、 `True` を返し、そうでない場合は `False` を返す関数 `check_postalcode()` を作成してください。  \n",
    "ただし、「日本の郵便番号」は `abc-defg` という形になっており、`a`, `b`, `c`, `d`, `e`, `d`, `f`, `g` はそれぞれ `0` から `9` までの値になっています。\n",
    "\n",
    "以下のセルの `...` のところを書き換えて解答してください。"
   ]
  },
  {
   "cell_type": "code",
   "execution_count": 63,
   "metadata": {},
   "outputs": [],
   "source": [
    "import re\n",
    "\n",
    "def check_postalcode(str1):\n",
    "    \n",
    "    # 先頭、末尾ともに合致する場合のみTrueを返すようにする\n",
    "    return re.match(r'^\\d{3}-\\d{4}$', str1) is not None"
   ]
  },
  {
   "cell_type": "markdown",
   "metadata": {},
   "source": [
    "### 練習問題6\n",
    "\n",
    "文字列 `str1` を引数として取り、 `str1` を構成する文字列が `A`, `C`, `G`, `T` の4種類の文字以外の文字を含むかどうか調べて、これら以外を含む場合は `False` を、そうでない場合は `True` を返す関数 `check_ACGTstr()` を作成してください。 ただし、大文字と小文字は区別しません。また、空列の場合は `False` を返してください。\n",
    "\n",
    "以下のセルの `...` のところを書き換えて解答してください。"
   ]
  },
  {
   "cell_type": "code",
   "execution_count": 41,
   "metadata": {},
   "outputs": [],
   "source": [
    "import re\n",
    "\n",
    "def check_ACGTstr(str1):\n",
    "    \n",
    "    # 該当の4種類の文字列がまずマッチするかどうかチェック\n",
    "    match = re.search(r'(A|C|G|T)+', str1, re.I)\n",
    "    \n",
    "    # マッチ部分が入力文字列と同じだった場合、True\n",
    "    if match is not None and str1 == match.group(): return True\n",
    "    \n",
    "    return False"
   ]
  }
 ],
 "metadata": {
  "kernelspec": {
   "display_name": "Python 3",
   "language": "python",
   "name": "python3"
  },
  "language_info": {
   "codemirror_mode": {
    "name": "ipython",
    "version": 3
   },
   "file_extension": ".py",
   "mimetype": "text/x-python",
   "name": "python",
   "nbconvert_exporter": "python",
   "pygments_lexer": "ipython3",
   "version": "3.7.3"
  }
 },
 "nbformat": 4,
 "nbformat_minor": 2
}
