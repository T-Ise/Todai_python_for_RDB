{
 "cells": [
  {
   "cell_type": "markdown",
   "metadata": {},
   "source": [
    "# 第一章 練習問題解説"
   ]
  },
  {
   "cell_type": "markdown",
   "metadata": {},
   "source": [
    "## 1-1 数値演算\n",
    "### 練習問題1"
   ]
  },
  {
   "cell_type": "markdown",
   "metadata": {},
   "source": [
    "黄金比を求めてください。黄金比とは、5 の平方根に 1 を加えて 2 で割ったものです。約 1.618 になるはずです。"
   ]
  },
  {
   "cell_type": "code",
   "execution_count": null,
   "metadata": {},
   "outputs": [],
   "source": [
    "import math\n",
    "\n",
    "# 5の平方根に1を加えたものを括弧で優先し、最後に2で割る\n",
    "(math.sqrt(5) + 1) / 2"
   ]
  },
  {
   "cell_type": "markdown",
   "metadata": {},
   "source": [
    "## 1-2 変数と関数の基礎\n",
    "### 練習問題1\n",
    "次のような関数を定義してください。\n",
    "\n",
    "1. `f` フィート `i` インチをセンチメートルに変換する `feet_to_cm(f,i)`\n",
    "（ただし、1 フィート = 12 イン チ = 30.48 cm である。 ）\n",
    "2. 二次関数 $f(x) = ax^2+bx+c$ の値を求める `quadratic(a,b,c,x)`"
   ]
  },
  {
   "cell_type": "markdown",
   "metadata": {},
   "source": [
    "定義ができたら、その次のセルを実行して、`True` のみが表示されることを確認してください。"
   ]
  },
  {
   "cell_type": "code",
   "execution_count": null,
   "metadata": {},
   "outputs": [],
   "source": [
    "def feet_to_cm(f, i):\n",
    "    \n",
    "    # インチをフィートに変換し、一度全てフィートに揃えてからセンチメートルに変換する\n",
    "    return (f + i / 12) * 30.48"
   ]
  },
  {
   "cell_type": "code",
   "execution_count": null,
   "metadata": {},
   "outputs": [],
   "source": [
    "def quadratic(a, b, c, x):\n",
    "    \n",
    "    # 可読性の為、各項を括弧でくくる\n",
    "    return (a * x ** 2) + (b * x) + c"
   ]
  },
  {
   "cell_type": "markdown",
   "metadata": {},
   "source": [
    "### 練習問題2\n",
    "二次方程式 $ax^2 + bx + c = 0$ に関して以下のような関数を定義してください。\n",
    "\n",
    "1. 判別式 $b^2 - 4ac$ を求める `det(a,b,c)`\n",
    "2. 解のうち、大きくない方を求める `solution1(a,b,c)`\n",
    "3. 解のうち、小さくない方を求める `solution2(a,b,c)`\n",
    "\n",
    "2.と3.は `det` を使って定義してください。解が実数になる場合のみを想定して構いません。\n",
    "\n",
    "定義ができたら、その次のセルを実行して、`True` のみが表示されることを確認してください。"
   ]
  },
  {
   "cell_type": "code",
   "execution_count": null,
   "metadata": {},
   "outputs": [],
   "source": [
    "def det(a, b, c):\n",
    "    \n",
    "    # 可読性の為、各項を括弧でくくる\n",
    "    return (b ** 2) - (4 * a * c)"
   ]
  },
  {
   "cell_type": "code",
   "execution_count": null,
   "metadata": {},
   "outputs": [],
   "source": [
    "def solution1(a, b, c):\n",
    "    \n",
    "    # 解の公式の、分子が小さい方を記述する。 det()で置き換えられる部分は置き換える\n",
    "    return (-b - math.sqrt(det(a, b, c))) / (2 * a)"
   ]
  },
  {
   "cell_type": "code",
   "execution_count": null,
   "metadata": {},
   "outputs": [],
   "source": [
    "def solution2(a, b, c):\n",
    "    \n",
    "    # 解の公式の、分子が大きい方を記述する。 det()で置き換えられる部分は置き換える\n",
    "    return (-b + math.sqrt(det(a, b, c))) / (2 * a)"
   ]
  },
  {
   "cell_type": "markdown",
   "metadata": {},
   "source": [
    "## 1-3 比較演算と条件分岐の基礎\n",
    "### 練習問題1\n",
    "\n",
    "1. 数値 `x` の絶対値を求める関数 `absolute(x)` を定義してください。\n",
    "   （Pythonには `abs` という組み込み関数が用意されていますが。）\n",
    "2. `x` が正ならば 1、負ならば -1、ゼロならば 0 を返す `sign(x)` という関数を定義してください。\n",
    "\n",
    "定義ができたら、その次のセルを実行して、`True` のみが表示されることを確認してください。"
   ]
  },
  {
   "cell_type": "code",
   "execution_count": null,
   "metadata": {},
   "outputs": [],
   "source": [
    "# if文を用いた場合\n",
    "def absolute(x):\n",
    "    \n",
    "    # if文内が一行で済む場合には、同じ行に記述してよい\n",
    "    if x >= 0: return x\n",
    "    \n",
    "    # この文に来た時点でxが負の値であることが確定しているので、elseは不要\n",
    "    return -x"
   ]
  },
  {
   "cell_type": "code",
   "execution_count": null,
   "metadata": {},
   "outputs": [],
   "source": [
    "# if文を用いた場合\n",
    "def sign(x):\n",
    "    \n",
    "    if x > 0: return 1\n",
    "    \n",
    "    if x < 0: return -1\n",
    "    \n",
    "    # この文に来た時点でxが0であることが確定しているので、elseは不要\n",
    "    return 0"
   ]
  },
  {
   "cell_type": "markdown",
   "metadata": {},
   "source": [
    "> 以下、別解として三項演算子を使用して記述した場合を掲載します。  \n",
    "> 初学の時点では未学習の為、上記if文を用いた回答で問題ありませんが、2周目以降の演習の際には以下のように書くことが求められます。"
   ]
  },
  {
   "cell_type": "code",
   "execution_count": null,
   "metadata": {},
   "outputs": [],
   "source": [
    "# 三項演算子で簡潔に記述した場合\n",
    "def absolute(x):\n",
    "    \n",
    "    return x if x >= 0 else -x"
   ]
  },
  {
   "cell_type": "code",
   "execution_count": null,
   "metadata": {},
   "outputs": [],
   "source": [
    "# 三項演算子で簡潔に記述した場合\n",
    "def sign(x):\n",
    "    \n",
    "    return 1 if x > 0 else -1 if x < 0 else 0"
   ]
  },
  {
   "cell_type": "markdown",
   "metadata": {},
   "source": [
    "## 1-5 文字列\n",
    "### 練習問題1\n",
    "\n",
    "英語の文章からなる文字列 `str_engsentences` が引数として与えられたとき、`str_engsentences` 中に含まれる全ての句読点（`.`, `,`, `:`, `;`, `!`, `?`）を削除した文字列を返す関数 `remove_punctuations()` を作成してください。\n",
    "（練習の解答はこのノートブックの一番最後にあります。）\n",
    "\n",
    "次のセルの `...` のところを書き換えて `remove_punctuations(str_engsentences)` を作成してください。"
   ]
  },
  {
   "cell_type": "code",
   "execution_count": null,
   "metadata": {},
   "outputs": [],
   "source": [
    "def remove_punctuations(str_engsentences):\n",
    "    \n",
    "    # replace()はstrを返すので、そのままstrの関数に接続できる\n",
    "    return str_engsentences.replace('.', '').replace(',', '').replace(':', '').replace(';', '').replace('!', '').replace('?', '')"
   ]
  },
  {
   "cell_type": "markdown",
   "metadata": {},
   "source": [
    "> 別解"
   ]
  },
  {
   "cell_type": "code",
   "execution_count": null,
   "metadata": {},
   "outputs": [],
   "source": [
    "import re\n",
    "\n",
    "def remove_punctuations(str_engsentences):\n",
    "\n",
    "    # 正規表現を用いた一括変換\n",
    "    return re.sub(r'[.,:;!?]', '', str_engsentences)"
   ]
  },
  {
   "cell_type": "markdown",
   "metadata": {},
   "source": [
    "### 練習問題2\n",
    "  \n",
    "コロン (`:`) を1つだけ含む文字列 `str1` を引数として与えると、コロンの左右に存在する文字列を入れ替えた文字列を返す関数 `swap_colon(str1)` を作成してください。\n",
    "\n",
    "次のセルの `...` のところを書き換えて `swap_colon(str1)` を作成してください。"
   ]
  },
  {
   "cell_type": "code",
   "execution_count": null,
   "metadata": {},
   "outputs": [],
   "source": [
    "def swap_colon(str1):\n",
    "    \n",
    "    # コロンが存在するindexを取得\n",
    "    sep_index = str1.index(':')\n",
    "    \n",
    "    # 前後をスライスで切り出し、結合して返却\n",
    "    return str1[sep_index + 1:] + ':' + str1[:sep_index]"
   ]
  },
  {
   "cell_type": "markdown",
   "metadata": {},
   "source": [
    "### 練習問題3\n",
    "\n",
    "ATGCの4種類の文字から成る文字列 `str_atgc` と塩基名（`A`, `T`, `G`, `C` のいずれか）を指定する文字列 `str_bpname` が引数として与えられたとき、`str_atgc` 中に含まれる塩基 `str_bpname` の数を返す関数 `atgc_count()` を作成してください。\n",
    "\n",
    "次のセルの `...` のところを書き換えて `atgc_count(str_atgc, str_bpname)` を作成してください。"
   ]
  },
  {
   "cell_type": "code",
   "execution_count": null,
   "metadata": {},
   "outputs": [],
   "source": [
    "def atgc_count(str_atgc, str_bpname):\n",
    "    \n",
    "    return str_atgc.count(str_bpname)"
   ]
  },
  {
   "cell_type": "markdown",
   "metadata": {},
   "source": [
    "### 練習問題4\n",
    "\n",
    "ATGCの4種類の文字から成る文字列 `str_atgc` が引数として与えられたとき、文字列 `str_pair` を返す関数 `atgc_bppair()` を作成してください。  \n",
    "ただし、`str_pair` は、`str_atgc` 中の各文字列に対して、\n",
    "`A` を `T` に、`T` を `A` に、`G` を `C` に、`C` を `G` に置き換えたものです。\n",
    "\n",
    "次のセルの `...` のところを書き換えて `atgc_bppair(str_atgc)` を作成してください。"
   ]
  },
  {
   "cell_type": "code",
   "execution_count": null,
   "metadata": {},
   "outputs": [],
   "source": [
    "def atgc_bppair(str_atgc):\n",
    "    \n",
    "    # 置換対象が混ざらないように一旦小文字に置き換え、最後に大文字に変換する\n",
    "    return str_atgc.replace('A', 't').replace('T', 'a').replace('G', 'c').replace('C', 'g').upper()"
   ]
  },
  {
   "cell_type": "markdown",
   "metadata": {},
   "source": [
    "> 別解"
   ]
  },
  {
   "cell_type": "code",
   "execution_count": null,
   "metadata": {},
   "outputs": [],
   "source": [
    "def atgc_bppair(str_atgc):\n",
    "    \n",
    "    # str.translate()を用いた一括変換\n",
    "    return str_atgc.translate(str.maketrans({'A':'T', 'T':'A', 'G':'C', 'C':'G'}))"
   ]
  },
  {
   "cell_type": "markdown",
   "metadata": {},
   "source": [
    "### 練習問題5\n",
    "\n",
    "英語の文字列 `str_engsentences` が引数として与えられたとき、それが全て小文字である場合、`True` を返し、そうでない場合、 `False` を返す関数 `check_lower` を作成してください。\n",
    "\n",
    "次のセルの `...` のところを書き換えて `check_lower(str_engsentences)` を作成してください。"
   ]
  },
  {
   "cell_type": "code",
   "execution_count": null,
   "metadata": {},
   "outputs": [],
   "source": [
    "def check_lower(str_engsentences):\n",
    "    \n",
    "    # 全て小文字に変換したものと、元が合致するかどうか\n",
    "    return str_engsentences == str_engsentences.lower()"
   ]
  },
  {
   "cell_type": "markdown",
   "metadata": {},
   "source": [
    "### 練習問題6\n",
    "\n",
    "コンマ (`,`) を含む英語の文章からなる文字列 `str_engsentences` が引数として与えられたとき、`str_engsentences` 中の一番最初のコンマより後の文章のみかならなる文字列 `str_res` を返す関数 `remove_clause()` を作成してください。  \n",
    "ただし、 `str_res` の先頭は大文字のアルファベットとしてください。\n",
    "\n",
    "次のセルの `...` のところを書き換えて `remove_clause(str_engsentences)` を作成してください。"
   ]
  },
  {
   "cell_type": "code",
   "execution_count": null,
   "metadata": {},
   "outputs": [],
   "source": [
    "def remove_clause(str_engsentences):\n",
    "    \n",
    "    # コンマ以降の文を抽出し、前後の空白を削除してから先頭を大文字にして返却\n",
    "    return str_engsentences[str_engsentences.find(',') + 1:].strip().capitalize()"
   ]
  },
  {
   "cell_type": "markdown",
   "metadata": {},
   "source": [
    "## 1-6 条件分岐"
   ]
  },
  {
   "cell_type": "markdown",
   "metadata": {},
   "source": [
    "##  練習問題1\n",
    "関数 `exception3(x, y, z)` の引数は以下の条件を満たすとします。\n",
    "\n",
    "- `x` と `y` と `z` の値は整数です。\n",
    "- `x` と `y` と `z` のうち、2つの値は同じで、もう1つの値は他の2つの値とは異なるとします。\n",
    "\n",
    "その異なる値を返すように、以下のセルの `...` のところを書き換えて `exception3(x,y,z)` を定義してください。  \n",
    "また、その実装において、三項演算子を使用してください。"
   ]
  },
  {
   "cell_type": "code",
   "execution_count": null,
   "metadata": {},
   "outputs": [],
   "source": [
    "def exception3(x, y, z):\n",
    "    \n",
    "    # 三項演算子を使用した例 (2つが同値であれば、もう一つの値が異なる)\n",
    "    return x if y == z else y if x == z else z"
   ]
  }
 ],
 "metadata": {
  "kernelspec": {
   "display_name": "Python 3",
   "language": "python",
   "name": "python3"
  },
  "language_info": {
   "codemirror_mode": {
    "name": "ipython",
    "version": 3
   },
   "file_extension": ".py",
   "mimetype": "text/x-python",
   "name": "python",
   "nbconvert_exporter": "python",
   "pygments_lexer": "ipython3",
   "version": "3.7.3"
  }
 },
 "nbformat": 4,
 "nbformat_minor": 2
}
