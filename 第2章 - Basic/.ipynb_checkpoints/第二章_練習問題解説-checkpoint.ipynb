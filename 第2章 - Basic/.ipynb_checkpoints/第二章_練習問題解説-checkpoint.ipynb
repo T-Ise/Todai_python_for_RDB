{
 "cells": [
  {
   "cell_type": "markdown",
   "metadata": {},
   "source": [
    "# 第二章 練習問題解説"
   ]
  },
  {
   "cell_type": "markdown",
   "metadata": {},
   "source": [
    "## 2-1 リスト"
   ]
  },
  {
   "cell_type": "markdown",
   "metadata": {},
   "source": [
    "### 練習問題1\n",
    "リスト `ln` を引数として取り、`ln` の偶数番目のインデックスの値を削除したリストを返す関数 `remove_evenindex()` を作成してください（ただし、0 は偶数として扱うものとします）。\n",
    "\n",
    "ヒント：スライスを使います。\n",
    "\n",
    "以下のセルの `...` のところを書き換えて `remove_evenindex(ln)` を作成してください。"
   ]
  },
  {
   "cell_type": "code",
   "execution_count": 10,
   "metadata": {},
   "outputs": [],
   "source": [
    "def remove_evenindex(ln):\n",
    "    \n",
    "    # インデックスにおける奇数番目の値を取得するよう、index=1スタートの1つ飛ばしでスライス\n",
    "    return ln[1::2]"
   ]
  },
  {
   "cell_type": "markdown",
   "metadata": {},
   "source": [
    "### 練習問題2\n",
    "\n",
    "英語の１文からなる文字列 `str_engsentence` が引数として与えられたとき、`str_engsentence` 中に含まれる単語数を返す関数 `count_words()` を作成してください。  \n",
    "ただし、文はピリオドで終了し単語は空白で区切られるものとします。\n",
    "\n",
    "ヒント：文字列に対する `split` メソッドを使います。\n",
    "\n",
    "以下のセルの `...` のところを書き換えて `count_words(str_engsentence)` を作成してください。"
   ]
  },
  {
   "cell_type": "code",
   "execution_count": 13,
   "metadata": {},
   "outputs": [],
   "source": [
    "def count_words(str_engsentence):\n",
    "    \n",
    "    # 文を空白で区切ったリストの要素数を返却\n",
    "    return len(str_engsentence.split(' '))"
   ]
  },
  {
   "cell_type": "markdown",
   "metadata": {},
   "source": [
    "### 練習問題3\n",
    "整数の要素からなるリスト `ln` を引数として取り、\n",
    "`ln` に含まれる要素を逆順に格納したタプルを返す関数 `reverse_totuple()` を作成してください。\n",
    "\n",
    "以下のセルの `...` のところを書き換えて `reverse_totuple(ln)` を作成してください。"
   ]
  },
  {
   "cell_type": "code",
   "execution_count": 15,
   "metadata": {},
   "outputs": [],
   "source": [
    "def reverse_totuple(ln):\n",
    "    \n",
    "    # スライススキップを-1にすることで、要素を逆順にする\n",
    "    return tuple(ln[::-1])"
   ]
  },
  {
   "cell_type": "markdown",
   "metadata": {},
   "source": [
    "### 練習問題4\n",
    "整数の要素からなるリスト `ln` を引数として取り、`ln` の要素の総和を返す関数 `sum_list()` を作成してください。\n",
    "\n",
    "以下のセルの `...` のところを書き換えて `sum_list(ln)` を作成してください。"
   ]
  },
  {
   "cell_type": "code",
   "execution_count": 17,
   "metadata": {},
   "outputs": [],
   "source": [
    "def sum_list(ln):\n",
    "    \n",
    "    # 組み込み関数 sum()にリストを入れる\n",
    "    return sum(ln)"
   ]
  },
  {
   "cell_type": "markdown",
   "metadata": {},
   "source": [
    "### 練習問題5\n",
    "\n",
    "ATGCの4種類の文字から成る文字列 `str_atgc` が引数として与えられたとき、次のようなリスト `list_count` を返す関数 `atgc_countlist()` を作成してください。  \n",
    "ただし、 `list_count` の要素は、各塩基 `bp` に対して `str_atgc` 中の `bp` の出現回数と `bp` の名前を格納した（長さ2の）リストとします。\n",
    "\n",
    "ヒント：文字列 `'ATGC'` に対する繰り返しを用いることができます。\n",
    "\n",
    "以下のセルの `...` のところを書き換えて `atgc_countlist(str_atgc)` を作成してください。"
   ]
  },
  {
   "cell_type": "code",
   "execution_count": 19,
   "metadata": {},
   "outputs": [],
   "source": [
    "def atgc_countlist(str_atgc):\n",
    "    \n",
    "    # 返却用のリストを初期化\n",
    "    result = []\n",
    "    \n",
    "    # ATGC それぞれに対してループ\n",
    "    for s in 'ATGC':\n",
    "        \n",
    "        # 文字数をカウントしたものを格納\n",
    "        result.append([str_atgc.count(s), s])\n",
    "        \n",
    "    return result    "
   ]
  },
  {
   "cell_type": "markdown",
   "metadata": {},
   "source": [
    "> 別解"
   ]
  },
  {
   "cell_type": "code",
   "execution_count": 21,
   "metadata": {},
   "outputs": [],
   "source": [
    "def atgc_countlist(str_atgc):\n",
    "    \n",
    "    # 内包表記を用いた場合\n",
    "    return [[str_atgc.count(s), s] for s in 'ATGC']"
   ]
  },
  {
   "cell_type": "markdown",
   "metadata": {},
   "source": [
    "## 2-2 セット"
   ]
  },
  {
   "cell_type": "markdown",
   "metadata": {},
   "source": [
    "### 練習問題1\n",
    "\n",
    "文字列 `str1` が引数として与えられたとき、`str1` に含まれる要素（文字、すなわち長さ1の文字列）の種類を返す関数 `check_characters()` を作成してください（大文字と小文字は区別し、スペースや句読点も1つと数えます）。  \n",
    "たとえば、`'aabccc'` には `'a'` と `'b'` と `'c'` が含まれるので、\n",
    "`check_characters('aabccc')` は 3 を返します。\n",
    "\n",
    "以下のセルの `...` のところを書き換えて `check_characters(str1)` を作成してください。"
   ]
  },
  {
   "cell_type": "code",
   "execution_count": 23,
   "metadata": {},
   "outputs": [],
   "source": [
    "def check_characters(str1):\n",
    "    \n",
    "    # 文字列をsetでユニーク文字集合に変換し、その要素数を返却\n",
    "    return len(set(str1))"
   ]
  },
  {
   "cell_type": "markdown",
   "metadata": {},
   "source": [
    "### 練習問題2\n",
    "\n",
    "英語の文章からなる文字列 `str_engsentences` が引数として与えられたとき、`str_engsentences` 中に含まれる単語の種類数を返す関数 `count_words2()` を作成してください。\n",
    "\n",
    "以下のセルの `...` のところを書き換えて `count_words2(str_engsentences)` を作成してください。"
   ]
  },
  {
   "cell_type": "code",
   "execution_count": 27,
   "metadata": {},
   "outputs": [],
   "source": [
    "def count_words2(str_engsentences):\n",
    "    \n",
    "    # 文を半角スペース区切りでリストに変換し、さらにset()に変換してユニーク単語集合に変換した後、その要素数を返却\n",
    "    return len(set(str_engsentences.split(' ')))"
   ]
  },
  {
   "cell_type": "markdown",
   "metadata": {},
   "source": [
    "## 2-3 辞書"
   ]
  },
  {
   "cell_type": "markdown",
   "metadata": {},
   "source": [
    "### 練習問題1\n",
    "\n",
    "リスト `list1` が引数として与えられたとき、`list1` の各要素 `value` をキー、` value` の `list1` におけるインデックスをキーに対応する値とした辞書を返す関数 `reverse_lookup()` を作成してください。\n",
    "\n",
    "以下のセルの `...` のところを書き換えて `reverse_lookup(list1)` を作成してください。"
   ]
  },
  {
   "cell_type": "code",
   "execution_count": 29,
   "metadata": {},
   "outputs": [],
   "source": [
    "def reverse_lookup(list1):\n",
    "    \n",
    "    # 最終的に返却するdictを初期化\n",
    "    result = {}\n",
    "    \n",
    "    # enumerate()で要素とインデックスを取り出しつつループ\n",
    "    for i, val in enumerate(list1):\n",
    "        \n",
    "        result[val] = i\n",
    "    \n",
    "    return result"
   ]
  },
  {
   "cell_type": "markdown",
   "metadata": {},
   "source": [
    "> 別解"
   ]
  },
  {
   "cell_type": "code",
   "execution_count": 35,
   "metadata": {},
   "outputs": [],
   "source": [
    "def reverse_lookup(list1):\n",
    "    \n",
    "    # 内包表記を用いた場合\n",
    "    return {val:i for i, val in enumerate(list1)}"
   ]
  },
  {
   "cell_type": "markdown",
   "metadata": {},
   "source": [
    "### 練習問題2\n",
    "\n",
    "辞書 `dic1` と文字列 `str1` が引数として与えられたとき、\n",
    "以下のように `dic1` を変更する関数 `handle_collision()` を作成してください。\n",
    "ただし、`dic1` のキーは整数、キーに対応する値は文字列を要素とするリストとします。\n",
    "\n",
    "1. `dic1` に `str1` の長さ `n` がキーとして登録されていない場合、`str1` のみを要素とするリスト `ls` を作成し、 `dic1` にキー `n`、`n` に対応する値 `ls` を登録します。\n",
    "2. `dic1` に `str1` の長さ `n` がキーとして登録されている場合、そのキーに対応する値（リスト）に `str1` を追加します。\n",
    "\n",
    "以下のセルの `...` のところを書き換えて `handle_collision(dic1, str1)` を作成してください。"
   ]
  },
  {
   "cell_type": "code",
   "execution_count": 41,
   "metadata": {},
   "outputs": [],
   "source": [
    "def handle_collision(dic1, str1):\n",
    "    \n",
    "    # キーが存在する場合、値のリストに文字列を追加\n",
    "    if len(str1) in dic1: dic1[len(str1)].append(str1)\n",
    "        \n",
    "    # 存在しない場合、新しいキーと空のリストを設定\n",
    "    else: dic1[len(str1)] = []"
   ]
  },
  {
   "cell_type": "markdown",
   "metadata": {},
   "source": [
    "## 2-4 繰り返し"
   ]
  },
  {
   "cell_type": "markdown",
   "metadata": {},
   "source": [
    "### 練習問題1\n",
    "\n",
    "辞書 `dic1` が引数として与えられたとき、次のような辞書 `dic2` を返す関数 `reverse_lookup2()` を作成してください。  \n",
    "ただし、 `dic1` のキー `key` の値が `value` である場合、 `dic2` には `value` というキーが登録されており、その値は `key` であるとします。また、 `dic1` は異なる2つのキーに対応する値は必ず異なるとします。\n",
    "\n",
    "以下のセルの `...` のところを書き換えて `reverse_lookup2()` を作成してください。"
   ]
  },
  {
   "cell_type": "code",
   "execution_count": 42,
   "metadata": {},
   "outputs": [],
   "source": [
    "def reverse_lookup2(dic1):\n",
    "    \n",
    "    # 最終的に返却するdictを初期化\n",
    "    result = {}\n",
    "    \n",
    "    # キーと値分取得\n",
    "    for key, val in dic1.items():\n",
    "        \n",
    "        # 値をキーに、キーを値に格納\n",
    "        result[val] = key\n",
    "        \n",
    "    return result"
   ]
  },
  {
   "cell_type": "markdown",
   "metadata": {},
   "source": [
    "> 別解"
   ]
  },
  {
   "cell_type": "code",
   "execution_count": 44,
   "metadata": {},
   "outputs": [],
   "source": [
    "def reverse_lookup2(dic1):\n",
    "    \n",
    "    # 内包表記を用いた場合\n",
    "    return {val:key for key, val in dic1.items()}"
   ]
  },
  {
   "cell_type": "markdown",
   "metadata": {},
   "source": [
    "### 練習問題2\n",
    "引数で与えられる2つの整数 `x`, `y` 間（`x`, `y` を含む）の整数の総和を返す関数 `sum_n()` を for文を利用して作成してください。\n",
    "たとえば、`sum_n(1,3)` の結果は `1 + 2 + 3 = 6` となります。\n",
    "\n",
    "以下のセルの `...` のところを書き換えて `sum_n()` を作成してください。"
   ]
  },
  {
   "cell_type": "code",
   "execution_count": 48,
   "metadata": {},
   "outputs": [],
   "source": [
    "def sum_n(x, y):\n",
    "    \n",
    "    # x開始、y終了の数列を作成して合計(rangeのエンドは目的の数に+1する)\n",
    "    return sum(range(x, y + 1))"
   ]
  },
  {
   "cell_type": "markdown",
   "metadata": {},
   "source": [
    "### 練習問題3\n",
    "整数 `int_size` を引数として取り、\n",
    "長さが `int_size` であるリスト `ln` を返す関数 `construct_list()` を作成してください。\n",
    "ただし、 `ln` の `i` 番目の要素は `i` とします（`i` は 0 以上 `int_size-1` 以下の整数）。\n",
    "\n",
    "以下のセルの `...` のところを書き換えて `construct_list(int_size)` を作成してください。"
   ]
  },
  {
   "cell_type": "code",
   "execution_count": 50,
   "metadata": {},
   "outputs": [],
   "source": [
    "def construct_list(int_size):\n",
    "    \n",
    "    # int_size分の数列を作成して、list化する\n",
    "    return list(range(int_size))"
   ]
  },
  {
   "cell_type": "markdown",
   "metadata": {},
   "source": [
    "### 練習問題4\n",
    "\n",
    "次のような関数 `sum_lists()` を作成してください。\n",
    "\n",
    "- `sum_lists()` はリスト `list1` を引数とします。\n",
    "- `list1` の各要素はリストであり、そのリストの要素は数です。\n",
    "- `sum_lists()` は、`list1` の各要素であるリストの総和を求め、それらの総和を足し合せて返します。\n",
    "\n",
    "以下のセルの `...` のところを書き換えて `sum_lists()` を作成してください。"
   ]
  },
  {
   "cell_type": "code",
   "execution_count": 52,
   "metadata": {},
   "outputs": [],
   "source": [
    "def sum_lists(list1):\n",
    "    \n",
    "    # 最終的に返却する値を初期化\n",
    "    result = 0\n",
    "    \n",
    "    # リストのリスト分ループ\n",
    "    for l in list1:\n",
    "        \n",
    "        # 各リストの総和を合計\n",
    "        result += sum(l)\n",
    "        \n",
    "    return result"
   ]
  },
  {
   "cell_type": "markdown",
   "metadata": {},
   "source": [
    "> 別解"
   ]
  },
  {
   "cell_type": "code",
   "execution_count": 54,
   "metadata": {},
   "outputs": [],
   "source": [
    "def sum_lists(list1):\n",
    "    \n",
    "    # 内包表記を用いた場合\n",
    "    return sum([sum(l) for l in list1])"
   ]
  },
  {
   "cell_type": "markdown",
   "metadata": {},
   "source": [
    "### 練習問題5\n",
    "\n",
    "リスト `list1` と `list2` が引数として与えられたとき、次のようなリスト `list3` を返す関数 `sum_matrix()` を作成してください。\n",
    "\n",
    "- `list1`, `list2`, `list3` は、3つの要素を持ちます。\n",
    "- 各要素は大きさ3のリストになっており、そのリストの要素は全て数です。\n",
    "- `list3[i][j]` （ただし、`i` と `j` は共に、0以上2以下の整数）は `list1[i][j]` と `list2[i][j]` の値の和になっています。\n",
    "\n",
    "以下のセルの `...` のところを書き換えて `sum_matrix()` を作成してください。"
   ]
  },
  {
   "cell_type": "code",
   "execution_count": 60,
   "metadata": {},
   "outputs": [],
   "source": [
    "# インデックスアクセスをするパターン (※アンチパターン、このような書き方はしないこと)\n",
    "def sum_matrix(list1, list2):\n",
    "    \n",
    "    # 最終的に返却する値を初期化\n",
    "    list3 = []\n",
    "    \n",
    "    # 要素分ループ\n",
    "    for i in range(len(list1)):\n",
    "        \n",
    "        # 1要素分のリストを初期化\n",
    "        tmp_list = []\n",
    "        \n",
    "        # 1要素のリストの要素数分ループ\n",
    "        for j in range(len(list1[i])):\n",
    "            \n",
    "            # 同じインデックスの値を足して格納\n",
    "            tmp_list.append(list1[i][j] + list2[i][j])\n",
    "            \n",
    "        # 作成したリストを要素として格納\n",
    "        list3.append(tmp_list)        \n",
    "        \n",
    "    return list3"
   ]
  },
  {
   "cell_type": "code",
   "execution_count": 67,
   "metadata": {},
   "outputs": [],
   "source": [
    "# zip()を使用するパターン\n",
    "def sum_matrix(list1, list2):\n",
    "    \n",
    "    # 最終的に返却する値を初期化\n",
    "    list3 = []\n",
    "    \n",
    "    # 要素分ループ\n",
    "    for l1, l2 in zip(list1, list2):\n",
    "        \n",
    "        # 1要素分のリストを初期化\n",
    "        tmp_list = []\n",
    "        \n",
    "        # 1要素のリストの要素数分ループ\n",
    "        for i1, i2 in zip(l1, l2):\n",
    "            \n",
    "            # 各値を足して格納\n",
    "            tmp_list.append(i1 + i2)\n",
    "            \n",
    "        # 作成したリストを要素として格納\n",
    "        list3.append(tmp_list)        \n",
    "        \n",
    "    return list3"
   ]
  },
  {
   "cell_type": "markdown",
   "metadata": {},
   "source": [
    "> 別解"
   ]
  },
  {
   "cell_type": "code",
   "execution_count": 69,
   "metadata": {},
   "outputs": [],
   "source": [
    "def sum_matrix(list1, list2):\n",
    "    \n",
    "    # 内包表記とzip()を用いた場合\n",
    "    return [[i1 + i2 for i1, i2 in zip(l1, l2)] for l1, l2 in zip(list1, list2)]"
   ]
  },
  {
   "cell_type": "markdown",
   "metadata": {},
   "source": [
    "### 練習問題6\n",
    "\n",
    "以下のプログラムでは1秒おきに `print()` が永久に実行されます。\n",
    "\n",
    "---\n",
    "```Python\n",
    "from time import sleep\n",
    "\n",
    "while True:\n",
    "    print('Yeah!')\n",
    "    sleep(1)\n",
    "```\n",
    "---\n",
    "\n",
    "10回 `print()` が実行された後にwhile文を終了するように書き換えてください。\n",
    "実行中のセルを停止させるには、ストップボタンが使えます。"
   ]
  },
  {
   "cell_type": "code",
   "execution_count": null,
   "metadata": {},
   "outputs": [],
   "source": [
    "from time import sleep\n",
    "\n",
    "# カウントを初期化\n",
    "i = 1\n",
    "\n",
    "# 10回まで繰り返す\n",
    "while i <= 10:\n",
    "    \n",
    "    print('Yeah!')\n",
    "    sleep(1)\n",
    "    \n",
    "    # カウントに加算\n",
    "    i += 1"
   ]
  },
  {
   "cell_type": "markdown",
   "metadata": {},
   "source": [
    "### 練習問題7\n",
    "\n",
    "英語の文章からなる文字列 `str_engsentence` が引数として与えられたとき、\n",
    "`str_engsentence` 中に含まれる3文字以上の全ての英単語を要素とするリストを返す関数\n",
    "`collect_engwords()` を作成してください。  \n",
    "ただし、同じ単語を重複して含んでいて構いません。\n",
    "\n",
    "以下のセルの `...` のところを書き換えて `collect_engwords(str_engsentence)` を作成してください。"
   ]
  },
  {
   "cell_type": "code",
   "execution_count": 74,
   "metadata": {},
   "outputs": [],
   "source": [
    "def collect_engwords(str_engsentence):\n",
    "    \n",
    "    # 最終的に返却するリストを初期化\n",
    "    result = []\n",
    "    \n",
    "    # 文を半角スペースで区切った単語分ループ\n",
    "    for word in str_engsentence.split(' '):\n",
    "        \n",
    "        # カンマ、ピリオド等を除去したものを作成\n",
    "        word = word.replace(',', '').replace('.', '')\n",
    "        \n",
    "        # 単語が3文字以上だった場合\n",
    "        if len(word) >= 3:\n",
    "            \n",
    "            # 結果に格納\n",
    "            result.append(word)\n",
    "            \n",
    "    return result"
   ]
  },
  {
   "cell_type": "markdown",
   "metadata": {},
   "source": [
    "> 別解"
   ]
  },
  {
   "cell_type": "code",
   "execution_count": 80,
   "metadata": {},
   "outputs": [],
   "source": [
    "def collect_engwords(str_engsentence):\n",
    "    \n",
    "    # 内包表記を用いた場合 (※カンマ、ピリオド除去にlambda式とmap()を使用)\n",
    "    return [word for word in map(lambda x: x.replace(',', '').replace('.', ''), str_engsentence.split(' ')) if len(word) >= 3]"
   ]
  },
  {
   "cell_type": "markdown",
   "metadata": {},
   "source": [
    "### 練習問題8\n",
    "文字列 `str1` を引数として取り、\n",
    "`str1` の中に含まれる大文字の数を返す関数 `count_capitalletters()` を作成してください。\n",
    "\n",
    "以下のセルの `...` のところを書き換えて `count_capitalletters(str1)` を作成してください。"
   ]
  },
  {
   "cell_type": "code",
   "execution_count": 98,
   "metadata": {},
   "outputs": [],
   "source": [
    "def count_capitalletters(str1):\n",
    "    \n",
    "    # 最終的に返却する値を初期化\n",
    "    count = 0\n",
    "    \n",
    "    # 前処理した文字列数分ループ\n",
    "    for s in str1.replace(' ', '').replace(',', ''):\n",
    "        \n",
    "        # 大文字の場合\n",
    "        if s.upper() == s:\n",
    "            \n",
    "            # カウントを加算\n",
    "            count += 1\n",
    "            \n",
    "    return count"
   ]
  },
  {
   "cell_type": "markdown",
   "metadata": {},
   "source": [
    "> 別解"
   ]
  },
  {
   "cell_type": "code",
   "execution_count": 101,
   "metadata": {},
   "outputs": [],
   "source": [
    "def count_capitalletters(str1):\n",
    "    \n",
    "    # 内包表記を用いた場合 (※ Trueを1, Falseを0とし、その配列を合計したもの)\n",
    "    return sum([s.upper() == s for s in str1.replace(' ', '').replace(',', '')])"
   ]
  },
  {
   "cell_type": "markdown",
   "metadata": {},
   "source": [
    "### 練習問題9\n",
    "\n",
    "長さが 3 の倍数である文字列 `str_augc` が引数として与えられたとき、\n",
    "`str_augc` を長さ 3 の文字列に区切り、それらを順に格納したリストを返す関数 `identify_codons()` を作成してください。\n",
    "\n",
    "以下のセルの `...` のところを書き換えて `identify_codons(str_augc)` を作成してください。"
   ]
  },
  {
   "cell_type": "code",
   "execution_count": 115,
   "metadata": {},
   "outputs": [],
   "source": [
    "def identify_codons(str_augc):\n",
    "    \n",
    "    # 最終的に返却する値を初期化\n",
    "    result = []\n",
    "    \n",
    "    # 区切る回数分ループ (※rangeのskipを3に指定)\n",
    "    for i in range(0, len(str_augc), 3):\n",
    "        \n",
    "        # スライスで区切った文字列を格納\n",
    "        result.append(str_augc[i:i + 3])\n",
    "        \n",
    "    return result"
   ]
  },
  {
   "cell_type": "markdown",
   "metadata": {},
   "source": [
    "> 別解"
   ]
  },
  {
   "cell_type": "code",
   "execution_count": 118,
   "metadata": {},
   "outputs": [],
   "source": [
    "def identify_codons(str_augc):\n",
    "    \n",
    "    # 内包表記を用いた場合\n",
    "    return [str_augc[i:i + 3] for i in range(0, len(str_augc), 3)]"
   ]
  },
  {
   "cell_type": "markdown",
   "metadata": {},
   "source": [
    "### 練習問題10\n",
    "\n",
    "正の整数 `int1` が引数として与えられたとき、\n",
    "`int1` の値の下桁から3桁毎にコンマ (`,`) を入れた文字列を返す関数 `add_commas()` を作成してください。\n",
    "ただし、数の先頭にコンマを入れる必要はありません。\n",
    "\n",
    "以下のセルの `...` のところを書き換えて `add_commas()` を作成してください。"
   ]
  },
  {
   "cell_type": "code",
   "execution_count": 137,
   "metadata": {},
   "outputs": [],
   "source": [
    "def add_commas(int1):\n",
    "    \n",
    "    # 文字列化し、逆順にする\n",
    "    int_str = str(int1)[::-1]\n",
    "    \n",
    "    # リストを用意\n",
    "    str_list = []\n",
    "    \n",
    "    # 区切る回数分ループ (※rangeのskipを3に指定)ff\n",
    "    for i in range(0, len(int_str), 3):\n",
    "        \n",
    "        # スライスで区切った文字列を逆順にして格納\n",
    "        str_list.append(int_str[i:i + 3][::-1])\n",
    "        \n",
    "    # リスト自体を逆順にして要素同士をカンマで結合して返却 \n",
    "    return ','.join(str_list[::-1])"
   ]
  },
  {
   "cell_type": "markdown",
   "metadata": {},
   "source": [
    "> 別解"
   ]
  },
  {
   "cell_type": "code",
   "execution_count": 139,
   "metadata": {},
   "outputs": [],
   "source": [
    "def add_commas(int1):\n",
    "    \n",
    "    # 内包表記を用いた場合\n",
    "    return ','.join([str(int1)[::-1][i:i + 3][::-1] for i in range(0, len(str(int1)), 3)][::-1])"
   ]
  },
  {
   "cell_type": "markdown",
   "metadata": {},
   "source": [
    "### 練習問題11\n",
    "\n",
    "辞書 `dic1` と長さ 10 以下の文字列 `str1` が引数として与えられたとき、\n",
    "以下のように `dic1` を変更する関数 `handle_collision2()` を作成してください。\n",
    "ただし、`dic1` のキーは、1 以上 10 以下の整数、キーに対応する値は文字列とします。\n",
    "\n",
    "1. `dic1` に `str1` の長さ `n` がキーとして登録されていない場合、`dic1` に キー `n`、`n` に対応する値 `str1` を登録します。\n",
    "2. `dic1` に `str1` の長さ `n` がキーとして登録されている場合、`i` の値を `n+1`, `n+2`, ...と1つずつ増やしていき、`dic1` にキーとして登録されていない値 `i` を探します。キーとして登録されていない値 `i` が見つかった場合、その `i` をキー、`i` に対応する値として `str1` を登録してください。 ただし、`i` を 10 まで増やしても登録されていない値が見つからない場合は、`i` を 1 に戻した上で `i` を増やす作業を続行してください。\n",
    "3. 2の手順によって、登録可能な `i` が見つからなかった場合、`dic1` を変更しません。 \n",
    "\n",
    "以下のセルの `...` のところを書き換えて `handle_collision2(dic1, str1)` を作成してください。"
   ]
  },
  {
   "cell_type": "code",
   "execution_count": 149,
   "metadata": {},
   "outputs": [],
   "source": [
    "def handle_collision2(dic1, str1):\n",
    "\n",
    "    # nを起点とした10までのリストと、0からnまでのリスト分ループ\n",
    "    for i in list(range(len(str1), 10 + 1)) + list(range(1, len(str1))):\n",
    "        \n",
    "        # 登録されていないキーが見つかった場合、登録して終了\n",
    "        if i not in dic1:\n",
    "            \n",
    "            dic1[i] = str1\n",
    "            \n",
    "            return"
   ]
  },
  {
   "cell_type": "markdown",
   "metadata": {},
   "source": [
    "### 練習問題12\n",
    "\n",
    "整数を最初の要素、文字列をその次の要素とするリスト（これを子リストと呼びます）を要素とするリスト\n",
    "`list1` が引数として与えられたとき、次のような辞書 `dic1` を返す関数 `handle_collision3()` を作成してください。\n",
    "\n",
    "* 各子リスト `list2` に対して、`dic1` のキーは `list2` の最初の要素である整数とし、そのキーに対応する値は次の要素である文字列とします。\n",
    "* 2つ以上の子リストの最初の要素が同じ整数である場合、`list1` においてより小さいインデックスを持つ子リストの文字列を、その整数のキーに対応する値とします。\n",
    "\n",
    "以下のセルの `...` のところを書き換えて `handle_collision3(list1)` を作成してください。"
   ]
  },
  {
   "cell_type": "code",
   "execution_count": 150,
   "metadata": {},
   "outputs": [],
   "source": [
    "def handle_collision3(list1):\n",
    "    \n",
    "    # 最終的に返却する値を初期化\n",
    "    result = {}\n",
    "    \n",
    "    # 子リスト分ループ\n",
    "    for list2 in list1:\n",
    "        \n",
    "        # キーが存在しない場合のみ、辞書に登録\n",
    "        if result.get(list2[0]) is None: result[list2[0]] = list2[1]\n",
    "            \n",
    "    return result"
   ]
  },
  {
   "cell_type": "markdown",
   "metadata": {},
   "source": [
    "> 別解"
   ]
  },
  {
   "cell_type": "code",
   "execution_count": 154,
   "metadata": {},
   "outputs": [],
   "source": [
    "def handle_collision3(list1):\n",
    "    \n",
    "    # 内包表記を用いた場合 ※インデックスの大きい順に辞書に登録し、インデックスの小さい方で上書きする\n",
    "    return {list2[0]:list2[1] for list2 in list1[::-1]}"
   ]
  },
  {
   "cell_type": "markdown",
   "metadata": {},
   "source": [
    "## 2-4 内包表記"
   ]
  },
  {
   "cell_type": "markdown",
   "metadata": {},
   "source": [
    "### 練習問題1\n",
    "文字列のリストが変数 `strings` に与えられたとき、\n",
    "それぞれの文字列の長さからなるリストを返す内包表記を記述してください。\n",
    "\n",
    "`strings = ['The', 'quick', 'brown']` のとき、結果は `[3, 5, 5]` となります。"
   ]
  },
  {
   "cell_type": "code",
   "execution_count": 156,
   "metadata": {
    "tags": [
     "raises-exception"
    ]
   },
   "outputs": [
    {
     "data": {
      "text/plain": [
       "[3, 5, 5]"
      ]
     },
     "execution_count": 156,
     "metadata": {},
     "output_type": "execute_result"
    }
   ],
   "source": [
    "strings = ['The', 'quick', 'brown']\n",
    "\n",
    "[len(s) for s in strings]"
   ]
  },
  {
   "cell_type": "markdown",
   "metadata": {},
   "source": [
    "### 練習問題2\n",
    "\n",
    "コンマで区切られた10進数からなる文字列が変数 `str1` に与えられたとき、\n",
    "それぞれの10進数を数に変換して得られるリストを返す内包表記を記述してください。\n",
    "\n",
    "`str1 = '123,45,-3'` のとき、結果は `[123, 45, -3]` となります。\n",
    "\n",
    "なお、コンマで区切られた10進数からなる文字列を、10進数の文字列のリストに変換するには、メソッド `split()` を用いることができます。\n",
    "また、10進数の文字列を数に変換するには、**`int`** を関数として用いることができます。"
   ]
  },
  {
   "cell_type": "code",
   "execution_count": 157,
   "metadata": {
    "tags": [
     "raises-exception"
    ]
   },
   "outputs": [
    {
     "data": {
      "text/plain": [
       "[123, 45, -3]"
      ]
     },
     "execution_count": 157,
     "metadata": {},
     "output_type": "execute_result"
    }
   ],
   "source": [
    "str1 = '123,45,-3'\n",
    "\n",
    "[int(s) for s in str1.split(',')]"
   ]
  },
  {
   "cell_type": "markdown",
   "metadata": {},
   "source": [
    "### 練習問題3\n",
    "\n",
    "数のリストが与えらえたとき、リストの要素の分散を求める関数 `var()` を内包表記と関数 `sum()` を用いて定義してください。  \n",
    "  \n",
    "以下のセルの `...` のところを書き換えて `var()` を作成してください。"
   ]
  },
  {
   "cell_type": "code",
   "execution_count": 169,
   "metadata": {},
   "outputs": [],
   "source": [
    "def var(lst):\n",
    "    \n",
    "    # 要素数を作成\n",
    "    n = len(lst)\n",
    "    \n",
    "    # 平均を作成\n",
    "    ave = sum(lst) / n\n",
    "    \n",
    "    # 各要素と平均の差の2乗和を、要素数で割ったもの\n",
    "    return sum([(x - ave)**2 for x in lst]) / n"
   ]
  },
  {
   "cell_type": "markdown",
   "metadata": {},
   "source": [
    "### 練習問題4\n",
    "\n",
    "次のような関数 `sum_lists()` を作成してください。\n",
    "\n",
    "- `sum_lists()` はリスト `list1` を引数とします。\n",
    "- `list1` の各要素はリストであり、そのリストの要素は数です。\n",
    "- `sum_lists()` は、`list1` の各要素であるリストの総和を求め、それらの総和を足し合せて返します。\n",
    "\n",
    "ここでは、内包表記と関数 `sum()` を用いて `sum_lists()` を定義してください。  \n",
    "以下のセルの `...` のところを書き換えて `sum_lists()` を作成してください。"
   ]
  },
  {
   "cell_type": "code",
   "execution_count": 171,
   "metadata": {},
   "outputs": [],
   "source": [
    "def sum_lists(list1):\n",
    "    \n",
    "    # 一度全ての入れ子状態を解除し、総和を求める\n",
    "    return sum([x for l1 in list1 for x in l1])"
   ]
  },
  {
   "cell_type": "markdown",
   "metadata": {},
   "source": [
    "> 別解"
   ]
  },
  {
   "cell_type": "code",
   "execution_count": 173,
   "metadata": {},
   "outputs": [],
   "source": [
    "import itertools\n",
    "\n",
    "def sum_lists(list1):\n",
    "    \n",
    "    # 今回のような、すべてを1次元化するような操作は、itertools.chain.from_iterable()推奨\n",
    "    return sum(itertools.chain.from_iterable(list1))"
   ]
  },
  {
   "cell_type": "markdown",
   "metadata": {},
   "source": [
    "### 練習問題5\n",
    "\n",
    "リスト `list1` と `list2` が引数として与えられたとき、次のようなリスト `list3` を返す関数 `sum_matrix()` を作成してください。\n",
    "\n",
    "- `list1`, `list2`, `list3` は、3つの要素を持ちます。\n",
    "- 各要素は大きさ 3 のリストになっており、そのリストの要素は全て数です。\n",
    "- `list3[i][j]` （ただし、`i` と `j` は共に、0 以上 2 以下の整数）は `list1[i][j]` と `list2[i][j]` の値の和になっています。\n",
    "\n",
    "ここでは、内包表記を用いて`sum_matrix()` を定義してください。以下のセルの `...` のところを書き換えて `sum_matrix()` を作成してください。"
   ]
  },
  {
   "cell_type": "code",
   "execution_count": 188,
   "metadata": {},
   "outputs": [],
   "source": [
    "def sum_matrix(list1, list2):\n",
    "    \n",
    "    return [[i + j for i, j in zip(list_i, list_j)] for list_i, list_j in zip(list1, list2)]"
   ]
  }
 ],
 "metadata": {
  "kernelspec": {
   "display_name": "Python 3",
   "language": "python",
   "name": "python3"
  },
  "language_info": {
   "codemirror_mode": {
    "name": "ipython",
    "version": 3
   },
   "file_extension": ".py",
   "mimetype": "text/x-python",
   "name": "python",
   "nbconvert_exporter": "python",
   "pygments_lexer": "ipython3",
   "version": "3.7.3"
  }
 },
 "nbformat": 4,
 "nbformat_minor": 2
}
